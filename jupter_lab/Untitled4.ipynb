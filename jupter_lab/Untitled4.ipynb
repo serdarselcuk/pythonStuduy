{
 "cells": [
  {
   "cell_type": "code",
   "execution_count": null,
   "metadata": {},
   "outputs": [],
   "source": []
  },
  {
   "cell_type": "code",
   "execution_count": 41,
   "metadata": {},
   "outputs": [
    {
     "name": "stdout",
     "output_type": "stream",
     "text": [
      "low\n",
      "tekrar dene\n",
      "low\n",
      "tekrar dene\n",
      "correct\n"
     ]
    }
   ],
   "source": [
    "letter = 'f'\n",
    "def check_guess(letter, guess):\n",
    "    if not guess.isalpha():\n",
    "        print('invalid')\n",
    "        return False\n",
    "    if guess == letter :\n",
    "        print('correct')\n",
    "        return True\n",
    "    if guess > letter :\n",
    "        print('high')\n",
    "        return False\n",
    "    if guess < letter :\n",
    "        print('low')\n",
    "        return False\n",
    "\n",
    "\n",
    "for i in range(3):\n",
    "    guess = input('guess : ').lower()\n",
    "    if check_guess(letter,guess) == True :\n",
    "        break\n",
    "    else:\n",
    "        print('tekrar dene')\n",
    "    \n"
   ]
  },
  {
   "cell_type": "markdown",
   "metadata": {},
   "source": [
    "letter='f'\n",
    "def check_guess(letter, guess):\n",
    "  \n",
    "  if not guess.isalpha():\n",
    "    print(\"invalid\")\n",
    "    return False"
   ]
  },
  {
   "cell_type": "code",
   "execution_count": 23,
   "metadata": {},
   "outputs": [
    {
     "name": "stdout",
     "output_type": "stream",
     "text": [
      "invalid\n"
     ]
    },
    {
     "data": {
      "text/plain": [
       "False"
      ]
     },
     "execution_count": 23,
     "metadata": {},
     "output_type": "execute_result"
    }
   ],
   "source": [
    "check_guess('f',\"3\")"
   ]
  },
  {
   "cell_type": "code",
   "execution_count": 27,
   "metadata": {},
   "outputs": [
    {
     "data": {
      "text/plain": [
       "6"
      ]
     },
     "execution_count": 27,
     "metadata": {},
     "output_type": "execute_result"
    }
   ],
   "source": []
  },
  {
   "cell_type": "code",
   "execution_count": null,
   "metadata": {},
   "outputs": [],
   "source": []
  }
 ],
 "metadata": {
  "kernelspec": {
   "display_name": "Python 3",
   "language": "python",
   "name": "python3"
  },
  "language_info": {
   "codemirror_mode": {
    "name": "ipython",
    "version": 3
   },
   "file_extension": ".py",
   "mimetype": "text/x-python",
   "name": "python",
   "nbconvert_exporter": "python",
   "pygments_lexer": "ipython3",
   "version": "3.6.5"
  }
 },
 "nbformat": 4,
 "nbformat_minor": 2
}
