{
 "cells": [
  {
   "cell_type": "code",
   "execution_count": 20,
   "metadata": {},
   "outputs": [
    {
     "name": "stdout",
     "output_type": "stream",
     "text": [
      "enter fish name: serdar\n",
      "enter the fish price(no symbols): 23\n",
      "Fish type :Serdar it costs $23\n"
     ]
    }
   ],
   "source": [
    "fish_type = input('enter fish name: ')\n",
    "price = input('enter the fish price(no symbols): ')\n",
    "def fishstore(a, b):\n",
    "    answer = ('Fish type :'+a.title()+ ' it costs '+'$'+b)\n",
    "    return answer\n",
    "\n",
    "print (fishstore(fish_type, price))"
   ]
  },
  {
   "cell_type": "code",
   "execution_count": null,
   "metadata": {},
   "outputs": [],
   "source": []
  },
  {
   "cell_type": "code",
   "execution_count": null,
   "metadata": {},
   "outputs": [],
   "source": []
  }
 ],
 "metadata": {
  "kernelspec": {
   "display_name": "Python 3",
   "language": "python",
   "name": "python3"
  },
  "language_info": {
   "codemirror_mode": {
    "name": "ipython",
    "version": 3
   },
   "file_extension": ".py",
   "mimetype": "text/x-python",
   "name": "python",
   "nbconvert_exporter": "python",
   "pygments_lexer": "ipython3",
   "version": "3.6.5"
  }
 },
 "nbformat": 4,
 "nbformat_minor": 2
}
