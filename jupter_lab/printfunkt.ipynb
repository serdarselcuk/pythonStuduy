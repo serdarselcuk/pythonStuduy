{
 "cells": [
  {
   "cell_type": "code",
   "execution_count": 2,
   "metadata": {},
   "outputs": [
    {
     "name": "stdout",
     "output_type": "stream",
     "text": [
      "name : serdar\n",
      "age:  37\n",
      "get_mail?:  yea\n",
      "hi! serdar\n"
     ]
    }
   ],
   "source": [
    "name= input('name: ')\n",
    "age= input('age: ')\n",
    "get_mail=input('getmail?: ')\n",
    "print ('name : '+ name)\n",
    "print('age: ', age, )\n",
    "print ( 'get_mail?: ', get_mail)\n",
    "print('hi!',name)"
   ]
  },
  {
   "cell_type": "raw",
   "metadata": {},
   "source": []
  }
 ],
 "metadata": {
  "kernelspec": {
   "display_name": "Python 3",
   "language": "python",
   "name": "python3"
  },
  "language_info": {
   "codemirror_mode": {
    "name": "ipython",
    "version": 3
   },
   "file_extension": ".py",
   "mimetype": "text/x-python",
   "name": "python",
   "nbconvert_exporter": "python",
   "pygments_lexer": "ipython3",
   "version": "3.6.5"
  }
 },
 "nbformat": 4,
 "nbformat_minor": 2
}
