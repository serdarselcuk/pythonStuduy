{
 "cells": [
  {
   "cell_type": "code",
   "execution_count": 18,
   "metadata": {},
   "outputs": [
    {
     "name": "stdout",
     "output_type": "stream",
     "text": [
      "noow\n",
      "F\n",
      "False\n"
     ]
    }
   ],
   "source": [
    "\n",
    "#R = Red\n",
    "#O = Orange\n",
    "#Y = Yellow\n",
    "#G = Green\n",
    "#B = Blue\n",
    "#I = Indigo\n",
    "#V = Violet\n",
    "reinbow = ('R', 'O', 'Y', 'G', 'B', 'I', 'V')\n",
    "def rei(color):\n",
    "    if color in reinbow:\n",
    "        return True\n",
    "    else:\n",
    "        return False\n",
    "color=input('color:').upper()\n",
    "if rei(color):\n",
    "    print(\"yes it's in reinbow\")\n",
    "else:\n",
    "    print('noow')\n",
    "\n"
   ]
  },
  {
   "cell_type": "code",
   "execution_count": null,
   "metadata": {},
   "outputs": [],
   "source": []
  }
 ],
 "metadata": {
  "kernelspec": {
   "display_name": "Python 3",
   "language": "python",
   "name": "python3"
  },
  "language_info": {
   "codemirror_mode": {
    "name": "ipython",
    "version": 3
   },
   "file_extension": ".py",
   "mimetype": "text/x-python",
   "name": "python",
   "nbconvert_exporter": "python",
   "pygments_lexer": "ipython3",
   "version": "3.6.5"
  }
 },
 "nbformat": 4,
 "nbformat_minor": 2
}
