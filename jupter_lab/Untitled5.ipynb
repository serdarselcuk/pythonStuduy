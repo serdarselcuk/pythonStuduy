{
 "cells": [
  {
   "cell_type": "code",
   "execution_count": null,
   "metadata": {},
   "outputs": [],
   "source": [
    "def sol(x,y):\n",
    "    x=0\n",
    "    y=x+1\n",
    "    target=12\n",
    "    if x+y!=target:\n",
    "        x=x+1\n",
    "        sol(x,y)\n",
    "        \n",
    "    else:\n",
    "        print(x,y,'ok')\n",
    "sol(x,y)\n",
    "\n",
    "        "
   ]
  },
  {
   "cell_type": "code",
   "execution_count": null,
   "metadata": {},
   "outputs": [],
   "source": []
  }
 ],
 "metadata": {
  "kernelspec": {
   "display_name": "Python 3",
   "language": "python",
   "name": "python3"
  },
  "language_info": {
   "name": ""
  }
 },
 "nbformat": 4,
 "nbformat_minor": 2
}
