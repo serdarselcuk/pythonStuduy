{
 "cells": [
  {
   "cell_type": "code",
   "execution_count": 15,
   "metadata": {},
   "outputs": [
    {
     "name": "stdout",
     "output_type": "stream",
     "text": [
      "2 costs $15.98\n"
     ]
    }
   ],
   "source": [
    "order=input('Enter cheese order weight (numeric value): ')\n",
    "order_fl= float(order)\n",
    "\n",
    "if order_fl > 100 :\n",
    "    print(order, 'is more than currently available stock')\n",
    "    \n",
    "elif order_fl < 1 :\n",
    "    print(order, 'is below minimum order amount')\n",
    "    \n",
    "else:\n",
    "    cost = order_fl*7.99\n",
    "    print(order,'costs','$'+str(cost))"
   ]
  },
  {
   "cell_type": "code",
   "execution_count": 9,
   "metadata": {},
   "outputs": [
    {
     "data": {
      "text/plain": [
       "7.99"
      ]
     },
     "execution_count": 9,
     "metadata": {},
     "output_type": "execute_result"
    }
   ],
   "source": [
    "15.98/2\n",
    "\n"
   ]
  },
  {
   "cell_type": "code",
   "execution_count": null,
   "metadata": {},
   "outputs": [],
   "source": []
  }
 ],
 "metadata": {
  "kernelspec": {
   "display_name": "Python 3",
   "language": "python",
   "name": "python3"
  },
  "language_info": {
   "codemirror_mode": {
    "name": "ipython",
    "version": 3
   },
   "file_extension": ".py",
   "mimetype": "text/x-python",
   "name": "python",
   "nbconvert_exporter": "python",
   "pygments_lexer": "ipython3",
   "version": "3.6.5"
  }
 },
 "nbformat": 4,
 "nbformat_minor": 2
}
