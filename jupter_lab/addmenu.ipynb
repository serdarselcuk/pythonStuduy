{
 "cells": [
  {
   "cell_type": "code",
   "execution_count": 4,
   "metadata": {},
   "outputs": [
    {
     "name": "stdout",
     "output_type": "stream",
     "text": [
      "Pizza: True\n",
      "soup: False\n",
      "dessert: True\n"
     ]
    }
   ],
   "source": [
    "menu = \"salad, pasta, sandwich, pizza, drinks, dessert\"\n",
    "print('Pizza:','pizza' in menu)\n",
    "print('soup:','soup' in menu)\n",
    "print('dessert:','dessert' in menu)"
   ]
  },
  {
   "cell_type": "code",
   "execution_count": 7,
   "metadata": {},
   "outputs": [
    {
     "name": "stdout",
     "output_type": "stream",
     "text": [
      "sory we have not\n"
     ]
    }
   ],
   "source": [
    "menu = \"salad, pasta, sandwich, pizza, drinks, dessert\"\n",
    "search=input('looking for: ').lower()\n",
    "if search in menu:\n",
    "    print(search.capitalize(),'is include')\n",
    "else :\n",
    "    print('sory we have not')"
   ]
  },
  {
   "cell_type": "code",
   "execution_count": 8,
   "metadata": {},
   "outputs": [
    {
     "name": "stdout",
     "output_type": "stream",
     "text": [
      "Salad is include\n"
     ]
    }
   ],
   "source": [
    "menu = \"salad, pasta, sandwich, pizza, drinks, dessert\"\n",
    "search=input('looking for: ').lower()\n",
    "if search in menu:\n",
    "    print(search.capitalize(),'is include')\n",
    "else :\n",
    "    print('sory we have not')"
   ]
  },
  {
   "cell_type": "code",
   "execution_count": 23,
   "metadata": {},
   "outputs": [
    {
     "name": "stdout",
     "output_type": "stream",
     "text": [
      "sory we have not do you want to add it?:yes/no\n",
      "('salad, pasta, sandwich, pizza, drinks, dessert', 'serdar')\n"
     ]
    }
   ],
   "source": [
    "menu = \"salad, pasta, sandwich, pizza, drinks, dessert\"\n",
    "search=input('looking for: ').lower()\n",
    "if search in menu:\n",
    "    print(search.capitalize(),'is include')\n",
    "else :\n",
    "    print('sory we have not do you want to add it?:yes/no')\n",
    "    adding=input().lower()\n",
    "try:\n",
    "    adding=='yes:'\n",
    "    addmenu=input('add any thing: ').lower()\n",
    "    menu=menu , addmenu\n",
    "    print(menu)\n",
    "except:\n",
    "    print('have a good day')"
   ]
  },
  {
   "cell_type": "code",
   "execution_count": null,
   "metadata": {},
   "outputs": [],
   "source": []
  }
 ],
 "metadata": {
  "kernelspec": {
   "display_name": "Python 3",
   "language": "python",
   "name": "python3"
  },
  "language_info": {
   "codemirror_mode": {
    "name": "ipython",
    "version": 3
   },
   "file_extension": ".py",
   "mimetype": "text/x-python",
   "name": "python",
   "nbconvert_exporter": "python",
   "pygments_lexer": "ipython3",
   "version": "3.6.5"
  }
 },
 "nbformat": 4,
 "nbformat_minor": 2
}
