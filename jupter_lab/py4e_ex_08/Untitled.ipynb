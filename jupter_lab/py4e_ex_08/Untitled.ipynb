{
 "cells": [
  {
   "cell_type": "code",
   "execution_count": 19,
   "metadata": {},
   "outputs": [
    {
     "name": "stdout",
     "output_type": "stream",
     "text": [
      "But soft what light through yonder window breaks 1\n",
      "It is the east and Juliet is the sun 2\n",
      "Arise fair sun and kill the envious moon 3\n",
      "Who is already sick and pale with grief 4\n"
     ]
    }
   ],
   "source": [
    "#fname = input(\"Enter file name: \")\n",
    "fh = open(\"romeo.txt\")\n",
    "lst = list()\n",
    "count= 0 \n",
    "for line in fh:\n",
    "    line = line.rstrip()\n",
    "    lst.append(line)\n",
    "    count= count+1\n",
    "    print(line, count)"
   ]
  },
  {
   "cell_type": "code",
   "execution_count": null,
   "metadata": {},
   "outputs": [],
   "source": []
  }
 ],
 "metadata": {
  "kernelspec": {
   "display_name": "Python 3",
   "language": "python",
   "name": "python3"
  },
  "language_info": {
   "codemirror_mode": {
    "name": "ipython",
    "version": 3
   },
   "file_extension": ".py",
   "mimetype": "text/x-python",
   "name": "python",
   "nbconvert_exporter": "python",
   "pygments_lexer": "ipython3",
   "version": "3.6.5"
  }
 },
 "nbformat": 4,
 "nbformat_minor": 2
}
