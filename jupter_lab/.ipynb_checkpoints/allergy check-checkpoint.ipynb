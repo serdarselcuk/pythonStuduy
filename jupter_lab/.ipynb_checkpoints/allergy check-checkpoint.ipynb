{
 "cells": [
  {
   "cell_type": "code",
   "execution_count": 9,
   "metadata": {},
   "outputs": [
    {
     "name": "stdout",
     "output_type": "stream",
     "text": [
      "enter something you eaten last 24 hours: seafood\n",
      "it's True that seafood is in DAIRY, SEAFOOD, NUTS, CHOCOLATE CAKE\n"
     ]
    }
   ],
   "source": [
    "# Create Allergy check code\n",
    "# then PASTE THIS CODE into edX\n",
    "\n",
    "# [ ] get input for input_test variable\n",
    "\n",
    "\n",
    "# [ ] print \"True\" message if \"dairy\" is in the input or False message if not\n",
    "\n",
    "\n",
    "# [ ] print True message if \"nuts\" is in the input or False if not\n",
    "\n",
    "\n",
    "# [ ] Challenge: Check if \"seafood\" is in the input - print message\n",
    "\n",
    "\n",
    "# [ ] Challenge: Check if \"chocolate\" is in the input - print message\n",
    "\n",
    "chk_variables=input('enter something you eaten last 24 hours: ').lower()\n",
    "allergens=('dairy, seafood, nuts, chocolate cake')\n",
    "print(\"it's\",chk_variables in allergens.lower(),\"that\",chk_variables, \"is in\",allergens.upper() )\n"
   ]
  },
  {
   "cell_type": "code",
   "execution_count": 10,
   "metadata": {},
   "outputs": [
    {
     "name": "stdout",
     "output_type": "stream",
     "text": [
      "enter something you eaten last 24 hours: serdar\n",
      "it's False that dairy, seafood, nuts, chocolate cake contains SERDAR\n"
     ]
    }
   ],
   "source": [
    "chk_variables=input('enter something you eaten last 24 hours: ').lower()\n",
    "allergens=('dairy, seafood, nuts, chocolate cake')\n",
    "print(\"it's\",chk_variables in allergens.lower(),\"that\",allergens, \"contains\",chk_variables.upper() )"
   ]
  },
  {
   "cell_type": "code",
   "execution_count": 11,
   "metadata": {},
   "outputs": [
    {
     "name": "stdout",
     "output_type": "stream",
     "text": [
      "enter something you eaten last 24 hours: seafood\n",
      "it's True that dairy, seafood, nuts, chocolate cake contains SEAFOOD\n"
     ]
    }
   ],
   "source": [
    "chk_variables=input('enter something you eaten last 24 hours: ').lower()\n",
    "allergens=('dairy, seafood, nuts, chocolate cake')\n",
    "print(\"it's\",chk_variables in allergens.lower(),\"that\",allergens, \"contains\",chk_variables.upper() )"
   ]
  },
  {
   "cell_type": "code",
   "execution_count": 12,
   "metadata": {},
   "outputs": [
    {
     "name": "stdout",
     "output_type": "stream",
     "text": [
      "enter something you eaten last 24 hours: dairy\n",
      "it's True that dairy, seafood, nuts, chocolate cake contains DAIRY\n"
     ]
    }
   ],
   "source": [
    "chk_variables=input('enter something you eaten last 24 hours: ').lower()\n",
    "allergens=('dairy, seafood, nuts, chocolate cake')\n",
    "print(\"it's\",chk_variables in allergens.lower(),\"that\",allergens, \"contains\",chk_variables.upper() )"
   ]
  },
  {
   "cell_type": "code",
   "execution_count": 14,
   "metadata": {},
   "outputs": [
    {
     "name": "stdout",
     "output_type": "stream",
     "text": [
      "enter something you eaten last 24 hours: Chocolate Cake\n",
      "it's True that dairy, seafood, nuts, chocolate cake contains CHOCOLATE CAKE\n"
     ]
    }
   ],
   "source": [
    "chk_variables=input('enter something you eaten last 24 hours: ').lower()\n",
    "allergens=('dairy, seafood, nuts, chocolate cake')\n",
    "print(\"it's\",chk_variables in allergens.lower(),\"that\",allergens, \"contains\",chk_variables.upper() )"
   ]
  },
  {
   "cell_type": "code",
   "execution_count": 15,
   "metadata": {},
   "outputs": [
    {
     "name": "stdout",
     "output_type": "stream",
     "text": [
      "enter something you eaten last 24 hours: NUTS\n",
      "it's True that dairy, seafood, nuts, chocolate cake contains NUTS\n"
     ]
    }
   ],
   "source": [
    "chk_variables=input('enter something you eaten last 24 hours: ').lower()\n",
    "allergens=('dairy, seafood, nuts, chocolate cake')\n",
    "print(\"it's\",chk_variables in allergens.lower(),\"that\",allergens, \"contains\",chk_variables.upper() )"
   ]
  },
  {
   "cell_type": "code",
   "execution_count": null,
   "metadata": {},
   "outputs": [],
   "source": []
  }
 ],
 "metadata": {
  "kernelspec": {
   "display_name": "Python 3",
   "language": "python",
   "name": "python3"
  },
  "language_info": {
   "codemirror_mode": {
    "name": "ipython",
    "version": 3
   },
   "file_extension": ".py",
   "mimetype": "text/x-python",
   "name": "python",
   "nbconvert_exporter": "python",
   "pygments_lexer": "ipython3",
   "version": "3.6.5"
  }
 },
 "nbformat": 4,
 "nbformat_minor": 2
}
