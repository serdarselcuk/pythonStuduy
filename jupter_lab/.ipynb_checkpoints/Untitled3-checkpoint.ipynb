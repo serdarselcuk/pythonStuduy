{
 "cells": [
  {
   "cell_type": "code",
   "execution_count": 20,
   "metadata": {},
   "outputs": [
    {
     "name": "stdout",
     "output_type": "stream",
     "text": [
      "you can only use the digits\n"
     ]
    }
   ],
   "source": [
    "shirtsize=input('which size?: ')\n",
    "if shirtsize.isdigit()==False:\n",
    "    print('you can only use the digits')\n",
    "elif shirtsize=='s':\n",
    "    print('it costs $3')\n",
    "elif shirtsize=='l':\n",
    "    print('it costs $4')\n",
    "elif shirtsize=='m':\n",
    "    print('unfortunataly it has finished')\n",
    "else:\n",
    "    print('you entered unnown size?')"
   ]
  },
  {
   "cell_type": "code",
   "execution_count": null,
   "metadata": {},
   "outputs": [],
   "source": []
  }
 ],
 "metadata": {
  "kernelspec": {
   "display_name": "Python 3",
   "language": "python",
   "name": "python3"
  },
  "language_info": {
   "codemirror_mode": {
    "name": "ipython",
    "version": 3
   },
   "file_extension": ".py",
   "mimetype": "text/x-python",
   "name": "python",
   "nbconvert_exporter": "python",
   "pygments_lexer": "ipython3",
   "version": "3.6.5"
  }
 },
 "nbformat": 4,
 "nbformat_minor": 2
}
