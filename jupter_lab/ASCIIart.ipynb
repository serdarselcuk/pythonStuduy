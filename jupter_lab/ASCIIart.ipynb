{
 "cells": [
  {
   "cell_type": "code",
   "execution_count": 2,
   "metadata": {},
   "outputs": [
    {
     "name": "stdout",
     "output_type": "stream",
     "text": [
      "EEEEEEEEEEEEEE\n",
      "EE\n",
      "EE\n",
      "EE\n",
      "EEEEEEEEEE\n",
      "EE\n",
      "EE\n",
      "EE\n",
      "EEEEEEEEEEEEEE\n"
     ]
    }
   ],
   "source": [
    "print(\"EEEEEEEEEEEEEE\")\n",
    "print(\"EE\")\n",
    "print(\"EE\")\n",
    "print(\"EE\")\n",
    "print(\"EEEEEEEEEE\")\n",
    "print(\"EE\")\n",
    "print(\"EE\")\n",
    "print(\"EE\")\n",
    "print(\"EEEEEEEEEEEEEE\")"
   ]
  },
  {
   "cell_type": "code",
   "execution_count": null,
   "metadata": {},
   "outputs": [],
   "source": []
  },
  {
   "cell_type": "code",
   "execution_count": 3,
   "metadata": {},
   "outputs": [
    {
     "name": "stdout",
     "output_type": "stream",
     "text": [
      "\n",
      "\n",
      "\n",
      "                         .....                             ....\n",
      "                     .............         ..         .............\n",
      "                 ........       ......   ......   .......       ......\n",
      "                                     ...o______o...\n",
      "                                     .....____.....\n",
      "                                         ..\\/..                            \n"
     ]
    }
   ],
   "source": [
    "print(\"\")\n",
    "print(\"\")\n",
    "print(\"\")\n",
    "print(\"                         .....                             ....\")\n",
    "print(\"                     .............         ..         .............\")\n",
    "print(\"                 ........       ......   ......   .......       ......\")\n",
    "print(\"                                     ...o______o...\")\n",
    "print(\"                                     .....____.....\")\n",
    "print(\"                                         ..\\/..                            \")"
   ]
  },
  {
   "cell_type": "code",
   "execution_count": null,
   "metadata": {},
   "outputs": [],
   "source": []
  }
 ],
 "metadata": {
  "kernelspec": {
   "display_name": "Python 3",
   "language": "python",
   "name": "python3"
  },
  "language_info": {
   "codemirror_mode": {
    "name": "ipython",
    "version": 3
   },
   "file_extension": ".py",
   "mimetype": "text/x-python",
   "name": "python",
   "nbconvert_exporter": "python",
   "pygments_lexer": "ipython3",
   "version": "3.6.5"
  }
 },
 "nbformat": 4,
 "nbformat_minor": 2
}
