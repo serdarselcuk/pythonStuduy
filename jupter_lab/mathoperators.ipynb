{
 "cells": [
  {
   "cell_type": "code",
   "execution_count": 14,
   "metadata": {},
   "outputs": [
    {
     "name": "stdout",
     "output_type": "stream",
     "text": [
      "23 + 32 = 55\n"
     ]
    }
   ],
   "source": [
    "num1=input(\"enter firs num:\")\n",
    "num2=input(\"enter the second one\")\n",
    "num1=int(num1)\n",
    "num2=int(num2)\n",
    "answer=num1+num2\n",
    "print(num1,\"+\",num2,\"=\",answer)"
   ]
  },
  {
   "cell_type": "markdown",
   "metadata": {},
   "source": [
    "\n",
    "size_num = \"8 9 10\"\n",
    "\n",
    "size = \"8\" # user input\n",
    "\n",
    "if size.isdigit() == False:\n",
    "    print(\"Invalid: size should only use digits\")\n",
    "elif int(size) < 8:\n",
    "    print(\"size is too low\")\n",
    "elif size in size_num:\n",
    "    print(\"size is recorded\")\n",
    "else:\n",
    "    print(\"size is too high\")\n",
    "\n"
   ]
  },
  {
   "cell_type": "code",
   "execution_count": 30,
   "metadata": {},
   "outputs": [
    {
     "name": "stdout",
     "output_type": "stream",
     "text": [
      "as x As  = 12\n"
     ]
    }
   ],
   "source": [
    "#task1\n",
    "def multiplation(a,b):\n",
    "    mul=a*b\n",
    "    return str(mul)\n",
    "sa=input()\n",
    "As=input()\n",
    "print('as', 'x', 'As ',\"=\",multiplation(int(sa),int(As)))"
   ]
  },
  {
   "cell_type": "code",
   "execution_count": 39,
   "metadata": {},
   "outputs": [
    {
     "name": "stdout",
     "output_type": "stream",
     "text": [
      "Invalid Operator\n"
     ]
    }
   ],
   "source": [
    "#task3\n",
    "def multiplation(a,b):\n",
    "    mul=a*b\n",
    "    return str(mul)\n",
    "def divition(a,b):\n",
    "    div=a/b\n",
    "    return str(div)\n",
    "sa=input()\n",
    "As=input()\n",
    "math=input()\n",
    "if math=='*':\n",
    "    print('sa', 'x', 'As ',\"=\",multiplation(int(sa),int(As)))\n",
    "elif math=='/':\n",
    "    print('sa','/','As','=',divition(int(sa),int(As)))\n",
    "else:\n",
    "    print('Invalid Operator')    "
   ]
  },
  {
   "cell_type": "markdown",
   "metadata": {},
   "source": [
    "## task4\n",
    "student_name = input(\"enter name: \").capitalize()\n",
    "if student_name.startswith(\"F\"):\n",
    "    print(student_name,\"Congratulations, names starting with 'F' get to go first today!\")\n",
    "elif student_name.startswith(\"G\"):\n",
    "    print(student_name,\"Congratulations, names starting with 'G' get to go second today!\")\n",
    "else:\n",
    "    print(student_name, \"please wait for students with names staring with 'F' and 'G' to go first today.\")\n",
    "\n"
   ]
  },
  {
   "cell_type": "code",
   "execution_count": 45,
   "metadata": {},
   "outputs": [
    {
     "name": "stdout",
     "output_type": "stream",
     "text": [
      "13.0\n"
     ]
    }
   ],
   "source": [
    "calculation = 5 + 15 / 5 + 3 * 2 - 1\n",
    "print(calculation)\n",
    "\n",
    "\n"
   ]
  },
  {
   "cell_type": "code",
   "execution_count": null,
   "metadata": {},
   "outputs": [],
   "source": []
  }
 ],
 "metadata": {
  "kernelspec": {
   "display_name": "Python 3",
   "language": "python",
   "name": "python3"
  },
  "language_info": {
   "codemirror_mode": {
    "name": "ipython",
    "version": 3
   },
   "file_extension": ".py",
   "mimetype": "text/x-python",
   "name": "python",
   "nbconvert_exporter": "python",
   "pygments_lexer": "ipython3",
   "version": "3.6.5"
  }
 },
 "nbformat": 4,
 "nbformat_minor": 2
}
