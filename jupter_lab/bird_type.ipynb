{
 "cells": [
  {
   "cell_type": "code",
   "execution_count": 4,
   "metadata": {},
   "outputs": [
    {
     "name": "stdout",
     "output_type": "stream",
     "text": [
      "bird type: crow\n",
      "that we have the crow type of bird is True\n",
      "how many do you want?: 3\n"
     ]
    },
    {
     "ename": "TypeError",
     "evalue": "request() missing 1 required positional argument: 'integer'",
     "output_type": "error",
     "traceback": [
      "\u001b[0;31m---------------------------------------------------------------------------\u001b[0m",
      "\u001b[0;31mTypeError\u001b[0m                                 Traceback (most recent call last)",
      "\u001b[0;32m<ipython-input-4-fb0b2a8266f1>\u001b[0m in \u001b[0;36m<module>\u001b[0;34m()\u001b[0m\n\u001b[1;32m     17\u001b[0m \u001b[0;32mif\u001b[0m \u001b[0manswer_1\u001b[0m\u001b[0;34m==\u001b[0m \u001b[0;34m(\u001b[0m\u001b[0;34m'True'\u001b[0m\u001b[0;34m)\u001b[0m\u001b[0;34m:\u001b[0m\u001b[0;34m\u001b[0m\u001b[0m\n\u001b[1;32m     18\u001b[0m     \u001b[0mhow_many\u001b[0m\u001b[0;34m=\u001b[0m\u001b[0minput\u001b[0m\u001b[0;34m(\u001b[0m\u001b[0;34m'how many do you want?: '\u001b[0m\u001b[0;34m)\u001b[0m\u001b[0;34m\u001b[0m\u001b[0m\n\u001b[0;32m---> 19\u001b[0;31m     \u001b[0mprint\u001b[0m\u001b[0;34m(\u001b[0m\u001b[0mrequest\u001b[0m\u001b[0;34m(\u001b[0m\u001b[0;34m)\u001b[0m\u001b[0;34m)\u001b[0m\u001b[0;34m\u001b[0m\u001b[0m\n\u001b[0m\u001b[1;32m     20\u001b[0m \u001b[0;32melse\u001b[0m\u001b[0;34m:\u001b[0m\u001b[0;34m\u001b[0m\u001b[0m\n\u001b[1;32m     21\u001b[0m     \u001b[0mother_type\u001b[0m\u001b[0;34m=\u001b[0m\u001b[0minput\u001b[0m\u001b[0;34m(\u001b[0m\u001b[0;34m'do you want any other type? Yes/No'\u001b[0m\u001b[0;34m)\u001b[0m\u001b[0;34m\u001b[0m\u001b[0m\n",
      "\u001b[0;31mTypeError\u001b[0m: request() missing 1 required positional argument: 'integer'"
     ]
    }
   ],
   "source": [
    "# [ ] create function bird_available\n",
    "bird_available=('crow, robin, parrot, eagle, sandpiper, hawk, pigeon')\n",
    "def bird_type_available():\n",
    "    return(bird_type.lower() in bird_available)\n",
    "def request(integer):\n",
    "    return(\" we're preparing your\", how_many, bird_type)\n",
    "\n",
    "# [ ] user input\n",
    "bird_type=input('bird type: ').lower()\n",
    "\n",
    "# [ ] call bird_available\n",
    "answer= bird_type_available()\n",
    "answer_1=str(answer)\n",
    "\n",
    "# [ ] print availability status\n",
    "print('that we have the', bird_type,'type of bird is', answer)\n",
    "if answer_1== ('True'):\n",
    "    how_many=input('how many do you want?: ')\n",
    "    print(request())\n",
    "else:\n",
    "    other_type=input('do you want any other type? Yes/No')\n",
    "    if other_type==('yes'):\n",
    "        print('restart')\n",
    "    if other_type==('no'):\n",
    "        print('have a good day')\n",
    "    else :\n",
    "        print(\"I don't understand?\")\n",
    "\n"
   ]
  },
  {
   "cell_type": "code",
   "execution_count": null,
   "metadata": {},
   "outputs": [],
   "source": []
  },
  {
   "cell_type": "code",
   "execution_count": null,
   "metadata": {},
   "outputs": [],
   "source": []
  }
 ],
 "metadata": {
  "kernelspec": {
   "display_name": "Python 3",
   "language": "python",
   "name": "python3"
  },
  "language_info": {
   "codemirror_mode": {
    "name": "ipython",
    "version": 3
   },
   "file_extension": ".py",
   "mimetype": "text/x-python",
   "name": "python",
   "nbconvert_exporter": "python",
   "pygments_lexer": "ipython3",
   "version": "3.6.5"
  }
 },
 "nbformat": 4,
 "nbformat_minor": 2
}
