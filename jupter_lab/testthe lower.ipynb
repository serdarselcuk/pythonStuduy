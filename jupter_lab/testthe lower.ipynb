{
 "cells": [
  {
   "cell_type": "code",
   "execution_count": 10,
   "metadata": {},
   "outputs": [
    {
     "name": "stdout",
     "output_type": "stream",
     "text": [
      "test the word: Serdar\n",
      "have a good day!\n"
     ]
    }
   ],
   "source": [
    "test_word= input('test the word: ')\n",
    "if test_word.islower():\n",
    "    print(\"it is lower\")\n",
    "else :\n",
    "    pass\n",
    "print('have a good day!')"
   ]
  },
  {
   "cell_type": "code",
   "execution_count": 5,
   "metadata": {},
   "outputs": [
    {
     "name": "stdout",
     "output_type": "stream",
     "text": [
      "\"enter a type of vehicle that starts with \"P\": paris\n",
      "paris starts with \"P\"\n"
     ]
    }
   ],
   "source": [
    "vehicle_type = input('\"enter a type of vehicle that starts with \"P\": ')\n",
    "\n",
    "if vehicle_type.upper().startswith(\"P\"):\n",
    "    print(vehicle_type, 'starts with \"P\"')\n",
    "else:\n",
    "    print(vehicle_type, 'does not start with \"P\"')\n"
   ]
  },
  {
   "cell_type": "code",
   "execution_count": 9,
   "metadata": {},
   "outputs": [
    {
     "name": "stdout",
     "output_type": "stream",
     "text": [
      "enter a positive integer number: SERDAR\n",
      "SERDAR is not a positive integer\n"
     ]
    }
   ],
   "source": [
    "a_number = input(\"enter a positive integer number: \")\n",
    "\n",
    "if a_number.isdigit():\n",
    "    print(a_number, \"is a positive integer\")\n",
    "else:\n",
    "    print(a_number, \"is not a positive integer\")\n",
    "    "
   ]
  },
  {
   "cell_type": "code",
   "execution_count": 19,
   "metadata": {},
   "outputs": [
    {
     "name": "stdout",
     "output_type": "stream",
     "text": [
      "a:12\n",
      "32\n"
     ]
    }
   ],
   "source": [
    "x=10\n",
    "def serdar_comand(x):\n",
    "    a=input(\"a:\")\n",
    "    b=int(a)\n",
    "    return(b+x)\n",
    "sersel= serdar_comand(x)\n",
    "\n",
    "x=x+sersel\n",
    "print(x)"
   ]
  },
  {
   "cell_type": "code",
   "execution_count": 21,
   "metadata": {},
   "outputs": [
    {
     "name": "stdout",
     "output_type": "stream",
     "text": [
      "test the word: I have 3\n",
      "have a good day!\n"
     ]
    }
   ],
   "source": [
    "test_word= input('test the word: ')\n",
    "if test_word.islower():\n",
    "    print(\"it is lower\")\n",
    "else :\n",
    "    pass\n",
    "print('have a good day!')"
   ]
  },
  {
   "cell_type": "code",
   "execution_count": 26,
   "metadata": {},
   "outputs": [
    {
     "name": "stdout",
     "output_type": "stream",
     "text": [
      "serdar\n",
      "olmadi\n"
     ]
    }
   ],
   "source": [
    "startswith=input()\n",
    "if startswith.startswith('w'):\n",
    "    print('ok')\n",
    "else:\n",
    "    print('olmadi')"
   ]
  },
  {
   "cell_type": "code",
   "execution_count": 27,
   "metadata": {},
   "outputs": [
    {
     "name": "stdout",
     "output_type": "stream",
     "text": [
      "world\n",
      "ok\n"
     ]
    }
   ],
   "source": [
    "startswith=input()\n",
    "if startswith.startswith('w'):\n",
    "    print('ok')\n",
    "else:\n",
    "    print('olmadi')"
   ]
  },
  {
   "cell_type": "code",
   "execution_count": 28,
   "metadata": {},
   "outputs": [
    {
     "name": "stdout",
     "output_type": "stream",
     "text": [
      "Truck does not start with \"P\"\n"
     ]
    }
   ],
   "source": [
    "vehicle_type = \"Truck\"\n",
    "\n",
    "if vehicle_type.upper().startswith(\"P\"):\n",
    "    print(vehicle_type, 'starts with \"P\"')\n",
    "else:\n",
    "    print(vehicle_type, 'does not start with \"P\"')"
   ]
  },
  {
   "cell_type": "code",
   "execution_count": null,
   "metadata": {},
   "outputs": [],
   "source": []
  }
 ],
 "metadata": {
  "kernelspec": {
   "display_name": "Python 3",
   "language": "python",
   "name": "python3"
  },
  "language_info": {
   "codemirror_mode": {
    "name": "ipython",
    "version": 3
   },
   "file_extension": ".py",
   "mimetype": "text/x-python",
   "name": "python",
   "nbconvert_exporter": "python",
   "pygments_lexer": "ipython3",
   "version": "3.6.5"
  }
 },
 "nbformat": 4,
 "nbformat_minor": 2
}
